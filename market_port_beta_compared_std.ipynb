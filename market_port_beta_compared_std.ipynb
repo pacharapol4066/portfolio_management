{
 "cells": [
  {
   "cell_type": "code",
   "execution_count": 1,
   "metadata": {},
   "outputs": [
    {
     "name": "stderr",
     "output_type": "stream",
     "text": [
      "C:\\ProgramData\\Anaconda3\\lib\\site-packages\\statsmodels\\tools\\_testing.py:19: FutureWarning: pandas.util.testing is deprecated. Use the functions in the public API at pandas.testing instead.\n",
      "  import pandas.util.testing as tm\n"
     ]
    }
   ],
   "source": [
    "import pandas as pd\n",
    "import numpy as np\n",
    "import matplotlib.pyplot as plt\n",
    "import seaborn as sns"
   ]
  },
  {
   "cell_type": "code",
   "execution_count": 2,
   "metadata": {},
   "outputs": [],
   "source": [
    "def generate_Return_Stock(port):\n",
    "    ### สร้าง Return Rate ###\n",
    "    port = port.iloc[-port.shape[0]:]\n",
    "    K = port.diff(axis=0).dropna().drop('Date', axis=1)\n",
    "    (n, m) = K.shape\n",
    "    r = 0.0002\n",
    "    ### ส่วนประกอบคำนวณ ###\n",
    "    muk = K.mean().values.reshape((m,1)).transpose()\n",
    "    Ck = K.cov().to_numpy()\n",
    "    iCk = np.linalg.inv(Ck)\n",
    "    u = np.ones((m, 1))\n",
    "    uiCm = u.transpose()*iCk*muk\n",
    "    miCm = muk.transpose()*iCk*muk\n",
    "    uiCu = u.transpose()*iCk*u\n",
    "    ### Market return (mk) Portfolio ###\n",
    "    wm = iCk*(muk - r*u)/(uiCm - r*uiCu) # market port weight\n",
    "    return n, m, K, wm, muk"
   ]
  },
  {
   "cell_type": "code",
   "execution_count": 3,
   "metadata": {},
   "outputs": [],
   "source": [
    "def create_beta_sigma(i, K, wm):\n",
    "    Km = np.dot(K.to_numpy(),wm).transpose()\n",
    "    Kv = K.iloc[:,i]\n",
    "    stk_name = K.iloc[:,i].name\n",
    "    CC = np.cov(Km[0],Kv)\n",
    "    mu_v = K.iloc[:,i].mean()\n",
    "    sigma_v = np.sqrt(CC[1][1])\n",
    "    beta_v = CC[1][0]/CC[0][0]\n",
    "    return sigma_v, beta_v, mu_v, stk_name"
   ]
  },
  {
   "cell_type": "code",
   "execution_count": 4,
   "metadata": {},
   "outputs": [],
   "source": [
    "def plot_beta_sigma(df,xlabel1,ylabel1,xlabel2,ylabel2):\n",
    "    fig, axs = plt.subplots(1, 2,figsize=(12,5))\n",
    "    axs[0].set_title('Capital Market Line')\n",
    "    axs[1].set_title('Security Market Line')\n",
    "    sns.scatterplot(ax=axs[0],x=xlabel1, y=ylabel1,  data=df, hue=\"stockGroup\")\n",
    "    sns.scatterplot(ax=axs[1],x=xlabel2, y=ylabel2,  data=df, hue=\"stockGroup\")\n",
    "    for e in range(0, len(df['stockName'])):\n",
    "        axs[0].text(df[xlabel1][e]+0.01,df[ylabel1][e], df['stockName'][e], fontsize=9)\n",
    "        axs[1].text(df[xlabel2][e]+0.0001,df[ylabel2][e], df['stockName'][e], fontsize=9)"
   ]
  },
  {
   "cell_type": "code",
   "execution_count": 5,
   "metadata": {},
   "outputs": [],
   "source": [
    "p_H = pd.read_excel('health.xlsx')\n",
    "p_E = pd.read_excel('energy.xlsx')"
   ]
  },
  {
   "cell_type": "code",
   "execution_count": 6,
   "metadata": {},
   "outputs": [],
   "source": [
    "n_h, m_h, K_h, wm_h, muk_h = generate_Return_Stock(p_H)\n",
    "n_e, m_e, K_e, wm_e, muk_e = generate_Return_Stock(p_E)"
   ]
  },
  {
   "cell_type": "code",
   "execution_count": 7,
   "metadata": {},
   "outputs": [],
   "source": [
    "sigmav_h, betav_h, muv_h, stockName_h, stockGroup_h = [0]*m_h,[0]*m_h,[0]*m_h,[0]*m_h,['Health']*m_h\n",
    "for each in range(0, m_h):\n",
    "    sigmav_h[each], betav_h[each], muv_h[each], stockName_h[each] = create_beta_sigma(each, K_h, wm_h)"
   ]
  },
  {
   "cell_type": "code",
   "execution_count": 8,
   "metadata": {},
   "outputs": [],
   "source": [
    "sigmav_e, betav_e, muv_e, stockName_e, stockGroup_e = [0]*m_e,[0]*m_e,[0]*m_e,[0]*m_e,['Energy']*m_e\n",
    "for each in range(0, m_e):\n",
    "    sigmav_e[each], betav_e[each], muv_e[each], stockName_e[each] = create_beta_sigma(each, K_e, wm_e)"
   ]
  },
  {
   "cell_type": "code",
   "execution_count": 9,
   "metadata": {},
   "outputs": [],
   "source": [
    "sigmav = sigmav_h + sigmav_e\n",
    "betav = betav_h + betav_e\n",
    "muv = muv_h + muv_e\n",
    "stockName = stockName_h + stockName_e\n",
    "stockGroup = stockGroup_h + stockGroup_e\n",
    "df = pd.DataFrame([sigmav, betav, muv, stockName, stockGroup]).T\n",
    "df.columns = ['sigmav','betav','muv','stockName','stockGroup']"
   ]
  },
  {
   "cell_type": "code",
   "execution_count": 10,
   "metadata": {
    "scrolled": true
   },
   "outputs": [
    {
     "data": {
      "text/html": [
       "<div>\n",
       "<style scoped>\n",
       "    .dataframe tbody tr th:only-of-type {\n",
       "        vertical-align: middle;\n",
       "    }\n",
       "\n",
       "    .dataframe tbody tr th {\n",
       "        vertical-align: top;\n",
       "    }\n",
       "\n",
       "    .dataframe thead th {\n",
       "        text-align: right;\n",
       "    }\n",
       "</style>\n",
       "<table border=\"1\" class=\"dataframe\">\n",
       "  <thead>\n",
       "    <tr style=\"text-align: right;\">\n",
       "      <th></th>\n",
       "      <th>sigmav</th>\n",
       "      <th>betav</th>\n",
       "      <th>muv</th>\n",
       "      <th>stockName</th>\n",
       "      <th>stockGroup</th>\n",
       "    </tr>\n",
       "  </thead>\n",
       "  <tbody>\n",
       "    <tr>\n",
       "      <th>0</th>\n",
       "      <td>0.225346</td>\n",
       "      <td>0.0699654</td>\n",
       "      <td>0.0243243</td>\n",
       "      <td>AHC</td>\n",
       "      <td>Health</td>\n",
       "    </tr>\n",
       "    <tr>\n",
       "      <th>1</th>\n",
       "      <td>0.363582</td>\n",
       "      <td>0.0979832</td>\n",
       "      <td>-0.00540541</td>\n",
       "      <td>BCH</td>\n",
       "      <td>Health</td>\n",
       "    </tr>\n",
       "    <tr>\n",
       "      <th>2</th>\n",
       "      <td>0.824566</td>\n",
       "      <td>0.312385</td>\n",
       "      <td>-0.0810811</td>\n",
       "      <td>BDMS</td>\n",
       "      <td>Health</td>\n",
       "    </tr>\n",
       "    <tr>\n",
       "      <th>3</th>\n",
       "      <td>0.0831981</td>\n",
       "      <td>0.00709311</td>\n",
       "      <td>0.000540541</td>\n",
       "      <td>CHG</td>\n",
       "      <td>Health</td>\n",
       "    </tr>\n",
       "    <tr>\n",
       "      <th>4</th>\n",
       "      <td>0.193642</td>\n",
       "      <td>0.0459295</td>\n",
       "      <td>0.0183784</td>\n",
       "      <td>EKH</td>\n",
       "      <td>Health</td>\n",
       "    </tr>\n",
       "  </tbody>\n",
       "</table>\n",
       "</div>"
      ],
      "text/plain": [
       "      sigmav       betav          muv stockName stockGroup\n",
       "0   0.225346   0.0699654    0.0243243       AHC     Health\n",
       "1   0.363582   0.0979832  -0.00540541       BCH     Health\n",
       "2   0.824566    0.312385   -0.0810811      BDMS     Health\n",
       "3  0.0831981  0.00709311  0.000540541       CHG     Health\n",
       "4   0.193642   0.0459295    0.0183784       EKH     Health"
      ]
     },
     "execution_count": 10,
     "metadata": {},
     "output_type": "execute_result"
    }
   ],
   "source": [
    "df.head()"
   ]
  },
  {
   "cell_type": "code",
   "execution_count": 11,
   "metadata": {},
   "outputs": [
    {
     "data": {
      "image/png": "[encoded data removed]",
      "text/plain": [
       "<Figure size 864x360 with 2 Axes>"
      ]
     },
     "metadata": {
      "needs_background": "light"
     },
     "output_type": "display_data"
    }
   ],
   "source": [
    "plot_beta_sigma(df,'sigmav','muv','betav','muv')"
   ]
  }
 ],
 "metadata": {
  "kernelspec": {
   "display_name": "Python 3",
   "language": "python",
   "name": "python3"
  },
  "language_info": {
   "codemirror_mode": {
    "name": "ipython",
    "version": 3
   },
   "file_extension": ".py",
   "mimetype": "text/x-python",
   "name": "python",
   "nbconvert_exporter": "python",
   "pygments_lexer": "ipython3",
   "version": "3.7.3"
  }
 },
 "nbformat": 4,
 "nbformat_minor": 2
}
