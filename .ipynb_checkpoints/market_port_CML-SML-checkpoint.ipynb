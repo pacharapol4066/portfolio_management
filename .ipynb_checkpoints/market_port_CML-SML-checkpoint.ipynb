{
 "cells": [
  {
   "cell_type": "code",
   "execution_count": 1,
   "metadata": {},
   "outputs": [],
   "source": [
    "import pandas as pd\n",
    "import numpy as np\n",
    "import matplotlib.pyplot as plt"
   ]
  },
  {
   "cell_type": "code",
   "execution_count": 2,
   "metadata": {},
   "outputs": [],
   "source": [
    "p_H = pd.read_excel('health.xlsx')\n",
    "p_E = pd.read_excel('energy.xlsx')"
   ]
  },
  {
   "cell_type": "code",
   "execution_count": 3,
   "metadata": {},
   "outputs": [],
   "source": [
    "p_H = p_H.iloc[-24:]\n",
    "K_H = p_H.diff(axis=0).dropna().drop('Date', axis=1)"
   ]
  },
  {
   "cell_type": "code",
   "execution_count": 4,
   "metadata": {},
   "outputs": [],
   "source": [
    "(n, m) = K_H.shape\n",
    "r = 0.0002\n",
    "muk = K_H.mean().values.reshape((m,1)).transpose()\n",
    "Ck = K_H.cov().to_numpy()\n",
    "iCk = np.linalg.inv(Ck)\n",
    "u = np.ones((m, 1))"
   ]
  },
  {
   "cell_type": "code",
   "execution_count": 5,
   "metadata": {},
   "outputs": [],
   "source": [
    "uiCm = u.transpose()*iCk*muk\n",
    "miCm = muk.transpose()*iCk*muk\n",
    "uiCu = u.transpose()*iCk*u"
   ]
  },
  {
   "cell_type": "code",
   "execution_count": 6,
   "metadata": {},
   "outputs": [],
   "source": [
    "### Market return (mk) Portfolio ###\n",
    "wm = iCk*(muk - r*u)/(uiCm - r*uiCu) # market port weight\n",
    "mumk = muk.transpose()*wm\n",
    "#sigmamk = np.sqrt(wm.transpose()*Ck*wm)"
   ]
  },
  {
   "cell_type": "code",
   "execution_count": null,
   "metadata": {},
   "outputs": [],
   "source": [
    "### Case1 Portfolio w0 = variable with 2 conditions\n",
    "#muvk = np.arange(-0.02,0.025,0.0001)\n",
    "#sigmavk1 = np.zeros(len(muvk))\n",
    "\n",
    "#for i in range(0,len(muvk)):\n",
    "#    w0 = ((miCm - muvk[i]*uiCm)-r*(uiCm - muvk[i]*uiCu))/((miCm - r*uiCm)-r*(uiCm - r*uiCu))\n",
    "#    w = ((muvk[i] - r)*iCk*muk-r*(muvk[i] - r)*iCk*u)/((miCm - r*uiCm)-r*(uiCm - r*uiCu))\n",
    "#    sigmavk1[i] = np.sqrt(w.transpose()*Ck*w)"
   ]
  },
  {
   "cell_type": "code",
   "execution_count": null,
   "metadata": {},
   "outputs": [],
   "source": [
    "### Security Market Line\n",
    "#beta = (muvk - r)/(mumk - r);"
   ]
  },
  {
   "cell_type": "code",
   "execution_count": null,
   "metadata": {},
   "outputs": [],
   "source": [
    "#plt.plot(sigmamk,mumk,'.r','MarkerSize',20)\n",
    "#plt.plot(sigmavk1, muvk,'k',linewidth=2.0)\n",
    "#plt.title('Capital Market Line', fontsize=14)\n",
    "#plt.xlabel('sigma', fontsize=14)\n",
    "#plt.ylabel('mu', fontsize=14)\n",
    "#set(gca, 'XAxisLocation', 'origin', 'YAxisLocation', 'origin')"
   ]
  },
  {
   "cell_type": "code",
   "execution_count": null,
   "metadata": {},
   "outputs": [],
   "source": [
    "#plt.plot(beta, muvk,'b:',linewidth=2.0)\n",
    "#plt.title('Security Market Line', fontsize=14)\n",
    "#plt.xlabel('beta', fontsize=14)\n",
    "#plt.ylabel('mu', fontsize=14)\n",
    "\n",
    "#set(gca, 'XAxisLocation', 'origin', 'YAxisLocation', 'origin')"
   ]
  },
  {
   "cell_type": "code",
   "execution_count": null,
   "metadata": {},
   "outputs": [],
   "source": [
    "def"
   ]
  },
  {
   "cell_type": "code",
   "execution_count": 36,
   "metadata": {},
   "outputs": [],
   "source": [
    "# SET Stock \"AHC\" = 0\n",
    "\n",
    "Km = np.dot(K_H.to_numpy(),wm).transpose()\n",
    "Kv = K_H.iloc[:,0]\n",
    "muv = K_H.iloc[:,0].mean()"
   ]
  },
  {
   "cell_type": "code",
   "execution_count": 43,
   "metadata": {},
   "outputs": [],
   "source": [
    "CC = np.cov(Km[0],Kv)\n",
    "sigmav = np.sqrt(CC[1][1])\n",
    "betav = CC[1][0]/CC[0][0]"
   ]
  },
  {
   "cell_type": "code",
   "execution_count": 48,
   "metadata": {},
   "outputs": [
    {
     "data": {
      "text/plain": [
       "Text(0.23982121581327243, 0.060869565217391244, 'AHC')"
      ]
     },
     "execution_count": 48,
     "metadata": {},
     "output_type": "execute_result"
    },
    {
     "data": {
      "image/png": "[encoded data removed]",
      "text/plain": [
       "<Figure size 432x288 with 1 Axes>"
      ]
     },
     "metadata": {
      "needs_background": "light"
     },
     "output_type": "display_data"
    }
   ],
   "source": [
    "plt.plot(sigmav,muv,'.r',markersize=20)\n",
    "plt.text(sigmav+0.001,muv,'AHC',fontsize=7)"
   ]
  },
  {
   "cell_type": "code",
   "execution_count": 58,
   "metadata": {},
   "outputs": [
    {
     "data": {
      "text/plain": [
       "Text(0.05781761804386349, 0.060869565217391244, 'AHC')"
      ]
     },
     "execution_count": 58,
     "metadata": {},
     "output_type": "execute_result"
    },
    {
     "data": {
      "image/png": "[encoded data removed]",
      "text/plain": [
       "<Figure size 432x288 with 1 Axes>"
      ]
     },
     "metadata": {
      "needs_background": "light"
     },
     "output_type": "display_data"
    }
   ],
   "source": [
    "plt.plot(betav,muv,'.r',markersize=20)\n",
    "plt.text(betav+0.0002,muv,'AHC',fontsize=7)"
   ]
  },
  {
   "cell_type": "code",
   "execution_count": null,
   "metadata": {},
   "outputs": [],
   "source": []
  }
 ],
 "metadata": {
  "kernelspec": {
   "display_name": "Python 3",
   "language": "python",
   "name": "python3"
  },
  "language_info": {
   "codemirror_mode": {
    "name": "ipython",
    "version": 3
   },
   "file_extension": ".py",
   "mimetype": "text/x-python",
   "name": "python",
   "nbconvert_exporter": "python",
   "pygments_lexer": "ipython3",
   "version": "3.7.3"
  }
 },
 "nbformat": 4,
 "nbformat_minor": 2
}
