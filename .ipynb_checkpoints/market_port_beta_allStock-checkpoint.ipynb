{
 "cells": [
  {
   "cell_type": "code",
   "execution_count": 1,
   "metadata": {},
   "outputs": [
    {
     "name": "stderr",
     "output_type": "stream",
     "text": [
      "C:\\ProgramData\\Anaconda3\\lib\\site-packages\\statsmodels\\tools\\_testing.py:19: FutureWarning: pandas.util.testing is deprecated. Use the functions in the public API at pandas.testing instead.\n",
      "  import pandas.util.testing as tm\n"
     ]
    }
   ],
   "source": [
    "import pandas as pd\n",
    "import numpy as np\n",
    "import matplotlib.pyplot as plt\n",
    "import seaborn as sns"
   ]
  },
  {
   "cell_type": "code",
   "execution_count": 2,
   "metadata": {},
   "outputs": [],
   "source": [
    "r = 0.0002"
   ]
  },
  {
   "cell_type": "code",
   "execution_count": 3,
   "metadata": {},
   "outputs": [],
   "source": [
    "p_H = pd.read_excel('health.xlsx')\n",
    "p_E = pd.read_excel('energy.xlsx')"
   ]
  },
  {
   "cell_type": "code",
   "execution_count": 4,
   "metadata": {},
   "outputs": [],
   "source": [
    "def generate_data(port):\n",
    "    ### สร้าง Return Rate ###\n",
    "    port = port.iloc[-port.shape[0]:]\n",
    "    K = port.drop('Date', axis=1).pct_change().dropna()\n",
    "    (n, m) = K.shape\n",
    "    \n",
    "    ### ส่วนประกอบคำนวณ ###\n",
    "    muk = K.mean().values.reshape((m,1)) # Matrix [10x1]\n",
    "    u = np.ones((m, 1))                  # Matrix [10x1]\n",
    "\n",
    "    Ck = K.cov().to_numpy() # Sqaure Matrix [10x10]\n",
    "    iCk = np.linalg.inv(Ck) # Sqaure Matrix [10x10]\n",
    "\n",
    "    uiCm = np.dot(np.dot(u.transpose(),iCk),muk)    # [1x10][10x10][10x1] = [1x1]\n",
    "    miCm = np.dot(np.dot(muk.transpose(),iCk),muk)  # [1x10][10x10][10x1] = [1x1]\n",
    "    uiCu = np.dot(np.dot(u.transpose(),iCk),u)      # [1x10][10x10][10x1] = [1x1]\n",
    "\n",
    "    wm = np.dot(iCk,np.divide(muk-r*u,uiCm-r*uiCu))          # Matrix [10x1]\n",
    "    mu_mk = np.dot(muk.transpose(),wm)                       # Matrix [10x1]\n",
    "    sigma_mk = np.sqrt(np.dot(wm.transpose(),np.dot(Ck,wm))) # Matrix [1x1]\n",
    "    \n",
    "    ### สร้างเส้น CML & SML ###\n",
    "    muvk = np.arange(-0.02,0.025,0.0001)\n",
    "    muvk = muvk.reshape((len(muvk),1))\n",
    "    bb = np.divide(muvk-r,mu_mk-r)\n",
    "    sigmavk1 = [0]*len(muvk)\n",
    "    for i in range(0,len(muvk)):\n",
    "        w = np.divide(np.dot(np.dot(muvk[i][0]-r,iCk),muk)-np.dot(np.dot(r*(muvk[i][0]-r),iCk),u),(miCm-r*uiCm)-r*(uiCm-r*uiCu))\n",
    "        sigmavk1[i] = np.sqrt(np.dot(np.dot(w.transpose(),Ck),w))[0]\n",
    "        \n",
    "    return n, m, K, wm, muk, mu_mk, sigma_mk, muvk, bb, sigmavk1"
   ]
  },
  {
   "cell_type": "code",
   "execution_count": 20,
   "metadata": {},
   "outputs": [],
   "source": [
    "def plot_beta_sigma(df, sigma_line, beta_line, muvk_line):\n",
    "    fig, axs = plt.subplots(1, 2,figsize=(15,6))\n",
    "    axs[0].set_title('Capital Market Line')\n",
    "    axs[1].set_title('Security Market Line')\n",
    "    sns.scatterplot(ax=axs[0],x='sigmav', y='muv',  data=df, hue=\"stockGroup\")\n",
    "    sns.scatterplot(ax=axs[1],x='betav', y='muv',  data=df, hue=\"stockGroup\")\n",
    "    for e in range(0, len(df['stockName'])):\n",
    "        axs[0].text(df['sigmav'][e]+0.001,df['muv'][e], df['stockName'][e], fontsize=10)\n",
    "        axs[1].text(df['betav'][e]+0.01,df['muv'][e], df['stockName'][e], fontsize=10)\n",
    "    axs[0].grid(True, which='both')\n",
    "    axs[1].grid(True, which='both')\n",
    "    sns.despine(ax=axs[0], offset=0)\n",
    "    sns.despine(ax=axs[1], offset=0)\n",
    "    axs[0].plot(sigma_line, muvk_line,'k',linewidth=1)\n",
    "    axs[1].plot(beta_line, muvk_line,'k:',linewidth=1)\n",
    "    axs[1].set_xlim([-1,2])"
   ]
  },
  {
   "cell_type": "code",
   "execution_count": 8,
   "metadata": {},
   "outputs": [],
   "source": [
    "def create_beta_sigma_dot(i, K, wm):\n",
    "    ### สร้างจุดหุ้นบน Plot ###\n",
    "    Km = np.dot(K.to_numpy(),wm).transpose()\n",
    "    Kv = K.iloc[:,i]\n",
    "    stk_name = K.iloc[:,i].name\n",
    "    CC = np.cov(Km[0],Kv)\n",
    "    mu_v = K.iloc[:,i].mean()\n",
    "    sigma_v = np.sqrt(CC[1][1])\n",
    "    beta_v = CC[1][0]/CC[0][0]\n",
    "    return sigma_v, beta_v, mu_v, stk_name"
   ]
  },
  {
   "cell_type": "code",
   "execution_count": 9,
   "metadata": {},
   "outputs": [],
   "source": [
    "n_h, m_h, K_h, wm_h, muk_h, mu_mk_h, sigma_mk_h, muvk_h, bb_h, sigmavk_h = generate_data(p_H)\n",
    "n_e, m_e, K_e, wm_e, muk_e, mu_mk_e, sigma_mk_e, muvk_e, bb_e, sigmavk_e = generate_data(p_E)"
   ]
  },
  {
   "cell_type": "code",
   "execution_count": 10,
   "metadata": {},
   "outputs": [],
   "source": [
    "sigmav_h, betav_h, muv_h, stockName_h, stockGroup_h = [0]*m_h,[0]*m_h,[0]*m_h,[0]*m_h,['Health']*m_h\n",
    "for each in range(0, m_h):\n",
    "    sigmav_h[each], betav_h[each], muv_h[each], stockName_h[each] = create_beta_sigma_dot(each, K_h, wm_h)"
   ]
  },
  {
   "cell_type": "code",
   "execution_count": 11,
   "metadata": {},
   "outputs": [],
   "source": [
    "sigmav_e, betav_e, muv_e, stockName_e, stockGroup_e = [0]*m_e,[0]*m_e,[0]*m_e,[0]*m_e,['Energy']*m_e\n",
    "for each in range(0, m_e):\n",
    "    sigmav_e[each], betav_e[each], muv_e[each], stockName_e[each] = create_beta_sigma_dot(each, K_e, wm_e)"
   ]
  },
  {
   "cell_type": "code",
   "execution_count": 12,
   "metadata": {},
   "outputs": [],
   "source": [
    "sigmav = sigmav_h + sigmav_e\n",
    "betav = betav_h + betav_e\n",
    "muv = muv_h + muv_e\n",
    "stockName = stockName_h + stockName_e\n",
    "stockGroup = stockGroup_h + stockGroup_e\n",
    "df = pd.DataFrame([sigmav, betav, muv, stockName, stockGroup]).T\n",
    "df.columns = ['sigmav','betav','muv','stockName','stockGroup']"
   ]
  },
  {
   "cell_type": "code",
   "execution_count": 13,
   "metadata": {
    "scrolled": true
   },
   "outputs": [
    {
     "data": {
      "text/html": [
       "<div>\n",
       "<style scoped>\n",
       "    .dataframe tbody tr th:only-of-type {\n",
       "        vertical-align: middle;\n",
       "    }\n",
       "\n",
       "    .dataframe tbody tr th {\n",
       "        vertical-align: top;\n",
       "    }\n",
       "\n",
       "    .dataframe thead th {\n",
       "        text-align: right;\n",
       "    }\n",
       "</style>\n",
       "<table border=\"1\" class=\"dataframe\">\n",
       "  <thead>\n",
       "    <tr style=\"text-align: right;\">\n",
       "      <th></th>\n",
       "      <th>sigmav</th>\n",
       "      <th>betav</th>\n",
       "      <th>muv</th>\n",
       "      <th>stockName</th>\n",
       "      <th>stockGroup</th>\n",
       "    </tr>\n",
       "  </thead>\n",
       "  <tbody>\n",
       "    <tr>\n",
       "      <th>0</th>\n",
       "      <td>0.0175831</td>\n",
       "      <td>0.22511</td>\n",
       "      <td>0.00192004</td>\n",
       "      <td>AHC</td>\n",
       "      <td>Health</td>\n",
       "    </tr>\n",
       "    <tr>\n",
       "      <th>1</th>\n",
       "      <td>0.0256753</td>\n",
       "      <td>-0.0334997</td>\n",
       "      <td>-5.5967e-05</td>\n",
       "      <td>BCH</td>\n",
       "      <td>Health</td>\n",
       "    </tr>\n",
       "    <tr>\n",
       "      <th>2</th>\n",
       "      <td>0.041979</td>\n",
       "      <td>-0.403014</td>\n",
       "      <td>-0.00287937</td>\n",
       "      <td>BDMS</td>\n",
       "      <td>Health</td>\n",
       "    </tr>\n",
       "    <tr>\n",
       "      <th>3</th>\n",
       "      <td>0.0333489</td>\n",
       "      <td>0.0707007</td>\n",
       "      <td>0.000740215</td>\n",
       "      <td>CHG</td>\n",
       "      <td>Health</td>\n",
       "    </tr>\n",
       "    <tr>\n",
       "      <th>4</th>\n",
       "      <td>0.0413171</td>\n",
       "      <td>0.55643</td>\n",
       "      <td>0.00445161</td>\n",
       "      <td>EKH</td>\n",
       "      <td>Health</td>\n",
       "    </tr>\n",
       "    <tr>\n",
       "      <th>5</th>\n",
       "      <td>0.0226041</td>\n",
       "      <td>0.0693777</td>\n",
       "      <td>0.000730106</td>\n",
       "      <td>LPH</td>\n",
       "      <td>Health</td>\n",
       "    </tr>\n",
       "    <tr>\n",
       "      <th>6</th>\n",
       "      <td>0.0383179</td>\n",
       "      <td>1.24575</td>\n",
       "      <td>0.00971865</td>\n",
       "      <td>PR9</td>\n",
       "      <td>Health</td>\n",
       "    </tr>\n",
       "    <tr>\n",
       "      <th>7</th>\n",
       "      <td>0.0267798</td>\n",
       "      <td>0.446958</td>\n",
       "      <td>0.00361515</td>\n",
       "      <td>RJH</td>\n",
       "      <td>Health</td>\n",
       "    </tr>\n",
       "    <tr>\n",
       "      <th>8</th>\n",
       "      <td>0.0295455</td>\n",
       "      <td>0.17301</td>\n",
       "      <td>0.00152194</td>\n",
       "      <td>TNH</td>\n",
       "      <td>Health</td>\n",
       "    </tr>\n",
       "    <tr>\n",
       "      <th>9</th>\n",
       "      <td>0.0484843</td>\n",
       "      <td>0.0623384</td>\n",
       "      <td>0.000676319</td>\n",
       "      <td>VIBHA</td>\n",
       "      <td>Health</td>\n",
       "    </tr>\n",
       "    <tr>\n",
       "      <th>10</th>\n",
       "      <td>0.0698291</td>\n",
       "      <td>-0.247995</td>\n",
       "      <td>0.00839936</td>\n",
       "      <td>AGE</td>\n",
       "      <td>Energy</td>\n",
       "    </tr>\n",
       "    <tr>\n",
       "      <th>11</th>\n",
       "      <td>0.0668954</td>\n",
       "      <td>-0.22218</td>\n",
       "      <td>0.00754584</td>\n",
       "      <td>BCP</td>\n",
       "      <td>Energy</td>\n",
       "    </tr>\n",
       "    <tr>\n",
       "      <th>12</th>\n",
       "      <td>0.0490004</td>\n",
       "      <td>-0.150479</td>\n",
       "      <td>0.0051752</td>\n",
       "      <td>BPP</td>\n",
       "      <td>Energy</td>\n",
       "    </tr>\n",
       "    <tr>\n",
       "      <th>13</th>\n",
       "      <td>0.0217296</td>\n",
       "      <td>0.0518307</td>\n",
       "      <td>-0.00151365</td>\n",
       "      <td>EASTW</td>\n",
       "      <td>Energy</td>\n",
       "    </tr>\n",
       "    <tr>\n",
       "      <th>14</th>\n",
       "      <td>0.040948</td>\n",
       "      <td>0.322201</td>\n",
       "      <td>-0.0104528</td>\n",
       "      <td>EGCO</td>\n",
       "      <td>Energy</td>\n",
       "    </tr>\n",
       "    <tr>\n",
       "      <th>15</th>\n",
       "      <td>0.067696</td>\n",
       "      <td>-0.199483</td>\n",
       "      <td>0.0067954</td>\n",
       "      <td>IRPC</td>\n",
       "      <td>Energy</td>\n",
       "    </tr>\n",
       "    <tr>\n",
       "      <th>16</th>\n",
       "      <td>0.0420621</td>\n",
       "      <td>-0.0451505</td>\n",
       "      <td>0.00169279</td>\n",
       "      <td>PTT</td>\n",
       "      <td>Energy</td>\n",
       "    </tr>\n",
       "    <tr>\n",
       "      <th>17</th>\n",
       "      <td>0.0271913</td>\n",
       "      <td>0.00750137</td>\n",
       "      <td>-4.80144e-05</td>\n",
       "      <td>SCG</td>\n",
       "      <td>Energy</td>\n",
       "    </tr>\n",
       "    <tr>\n",
       "      <th>18</th>\n",
       "      <td>0.0682403</td>\n",
       "      <td>-0.220661</td>\n",
       "      <td>0.00749562</td>\n",
       "      <td>SPRC</td>\n",
       "      <td>Energy</td>\n",
       "    </tr>\n",
       "    <tr>\n",
       "      <th>19</th>\n",
       "      <td>0.070261</td>\n",
       "      <td>-0.196934</td>\n",
       "      <td>0.00671115</td>\n",
       "      <td>TOP</td>\n",
       "      <td>Energy</td>\n",
       "    </tr>\n",
       "  </tbody>\n",
       "</table>\n",
       "</div>"
      ],
      "text/plain": [
       "       sigmav       betav          muv stockName stockGroup\n",
       "0   0.0175831     0.22511   0.00192004       AHC     Health\n",
       "1   0.0256753  -0.0334997  -5.5967e-05       BCH     Health\n",
       "2    0.041979   -0.403014  -0.00287937      BDMS     Health\n",
       "3   0.0333489   0.0707007  0.000740215       CHG     Health\n",
       "4   0.0413171     0.55643   0.00445161       EKH     Health\n",
       "5   0.0226041   0.0693777  0.000730106       LPH     Health\n",
       "6   0.0383179     1.24575   0.00971865       PR9     Health\n",
       "7   0.0267798    0.446958   0.00361515       RJH     Health\n",
       "8   0.0295455     0.17301   0.00152194       TNH     Health\n",
       "9   0.0484843   0.0623384  0.000676319     VIBHA     Health\n",
       "10  0.0698291   -0.247995   0.00839936       AGE     Energy\n",
       "11  0.0668954    -0.22218   0.00754584       BCP     Energy\n",
       "12  0.0490004   -0.150479    0.0051752       BPP     Energy\n",
       "13  0.0217296   0.0518307  -0.00151365     EASTW     Energy\n",
       "14   0.040948    0.322201   -0.0104528      EGCO     Energy\n",
       "15   0.067696   -0.199483    0.0067954      IRPC     Energy\n",
       "16  0.0420621  -0.0451505   0.00169279       PTT     Energy\n",
       "17  0.0271913  0.00750137 -4.80144e-05       SCG     Energy\n",
       "18  0.0682403   -0.220661   0.00749562      SPRC     Energy\n",
       "19   0.070261   -0.196934   0.00671115       TOP     Energy"
      ]
     },
     "execution_count": 13,
     "metadata": {},
     "output_type": "execute_result"
    }
   ],
   "source": [
    "df"
   ]
  },
  {
   "cell_type": "code",
   "execution_count": 21,
   "metadata": {},
   "outputs": [
    {
     "data": {
      "image/png": "[encoded data removed]",
      "text/plain": [
       "<Figure size 1080x432 with 2 Axes>"
      ]
     },
     "metadata": {
      "needs_background": "light"
     },
     "output_type": "display_data"
    }
   ],
   "source": [
    "plot_beta_sigma(df, sigmavk_h, bb_h, muvk_h)"
   ]
  }
 ],
 "metadata": {
  "kernelspec": {
   "display_name": "Python 3",
   "language": "python",
   "name": "python3"
  },
  "language_info": {
   "codemirror_mode": {
    "name": "ipython",
    "version": 3
   },
   "file_extension": ".py",
   "mimetype": "text/x-python",
   "name": "python",
   "nbconvert_exporter": "python",
   "pygments_lexer": "ipython3",
   "version": "3.7.3"
  }
 },
 "nbformat": 4,
 "nbformat_minor": 2
}
